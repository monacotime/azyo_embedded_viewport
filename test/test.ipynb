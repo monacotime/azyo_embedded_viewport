{
 "cells": [
  {
   "cell_type": "code",
   "execution_count": 14,
   "metadata": {},
   "outputs": [],
   "source": [
    "from pathlib import Path\n",
    "import requests\n",
    "from PIL import Image"
   ]
  },
  {
   "cell_type": "code",
   "execution_count": 15,
   "metadata": {},
   "outputs": [],
   "source": [
    "def read_image_as_bytes(image_path, fail_silently=True):\n",
    "    if not Path(image_path).exists(): \n",
    "        if fail_silently: return None\n",
    "        else: raise ValueError(f\"{image_path} does not exist\")\n",
    "    \n",
    "    with open(image_path, \"rb\") as image:\n",
    "        b = bytearray(image.read())\n",
    "\n",
    "    return b"
   ]
  },
  {
   "cell_type": "code",
   "execution_count": 16,
   "metadata": {},
   "outputs": [
    {
     "name": "stdout",
     "output_type": "stream",
     "text": [
      "<class 'bytearray'> 80261\n"
     ]
    }
   ],
   "source": [
    "v = read_image_as_bytes('sample DL rotated.jpeg')\n",
    "print(type(v), len(v))\n",
    "# from PIL import Image\n",
    "# a = Image.open('sample DL.jpeg')\n",
    "# print(type(a), a.width, a.height)\n",
    "# a.show()\n",
    "# b = a.rotate(90, Image.NEAREST, expand=1)\n",
    "# b.show()\n",
    "# b.save('sample DL rotated.jpeg')"
   ]
  },
  {
   "cell_type": "code",
   "execution_count": 17,
   "metadata": {},
   "outputs": [],
   "source": [
    "resp = requests.post(\"http://103.93.17.125:5001/api/v2/docs\",\n",
    "    files={\"file\": v, \"file1\": v},\n",
    "    data={\"document_type\": \"LICENCE\", \"country\": 'IND', \"state\": 'MH',\\\n",
    "    \"user\": 'test_user_ocr', \"code\": '0000111100001111'}\n",
    ")"
   ]
  },
  {
   "cell_type": "code",
   "execution_count": 18,
   "metadata": {},
   "outputs": [
    {
     "data": {
      "text/plain": [
       "<Response [200]>"
      ]
     },
     "execution_count": 18,
     "metadata": {},
     "output_type": "execute_result"
    }
   ],
   "source": [
    "# resp.json()\n",
    "resp"
   ]
  },
  {
   "cell_type": "code",
   "execution_count": 49,
   "metadata": {},
   "outputs": [],
   "source": [
    "import shutil\n",
    "import numpy as np\n",
    "resp1 = requests.get('http://103.93.17.125:5001/static/img/ims/irof4aThwCY8IXH7.jpg', stream=True)\n",
    "with open('saved.png', 'wb') as f:\n",
    "    resp1.raw.decode_content = True\n",
    "    shutil.copyfileobj(resp1.raw, f)"
   ]
  },
  {
   "cell_type": "code",
   "execution_count": 30,
   "metadata": {},
   "outputs": [
    {
     "data": {
      "text/plain": [
       "{'face_url': 'http://103.93.17.125:5001/static/img/ims/BqdT7EP9dpcizVON.jpg',\n",
       " 'field_values': [{'value': 'MH02 20200011373'},\n",
       "  {'value': 'AUTHORISA TION TO DRI'},\n",
       "  {'value': '10-09-1999'},\n",
       "  {'value': 'AUTHORISA TION TO DRI VE FOLLOWING CLASS'},\n",
       "  {'value': 'A'},\n",
       "  {'value': ' '},\n",
       "  {'value': '31-08-2020'},\n",
       "  {'value': '31-08-2020'},\n",
       "  {'value': '-1'}],\n",
       " 'fields_detected': [{'value': 'LICENCE NO'},\n",
       "  {'value': 'NAME'},\n",
       "  {'value': 'DOB'},\n",
       "  {'value': 'CARE OF'},\n",
       "  {'value': 'CLASS'},\n",
       "  {'value': 'ADDRESS'},\n",
       "  {'value': 'DATE OF ISSUE'},\n",
       "  {'value': 'DATE OF EXPIRY'},\n",
       "  {'value': 'ID'}]}"
      ]
     },
     "execution_count": 30,
     "metadata": {},
     "output_type": "execute_result"
    }
   ],
   "source": [
    "resp.json()"
   ]
  },
  {
   "cell_type": "code",
   "execution_count": 1,
   "metadata": {},
   "outputs": [],
   "source": [
    "import face_recognition\n",
    "from numpy import frombuffer, ndarray, array\n",
    "from pathlib import Path\n",
    "\n",
    "class FaceRecognition:\n",
    "\n",
    "    class ImageDoesNotExists(Exception): pass\n",
    "    class NoFaceDetected(Exception): pass\n",
    "    @staticmethod\n",
    "    def get_face_encodings(image_path):\n",
    "        if not Path(image_path).exists(): raise FaceRecognition.ImageDoesNotExists('check image path')\n",
    "        image_loaded = face_recognition.load_image_file(image_path)\n",
    "        image_encodings = face_recognition.face_encodings(image_loaded)\n",
    "\n",
    "        if not image_encodings: raise FaceRecognition.NoFaceDetected('No face was detected in selfie')    \n",
    "        image_encodings = image_encodings[0]\n",
    "        # print('-->', image_encodings[1:])\n",
    "\n",
    "        return image_encodings.tobytes()\n",
    "\n",
    "    class InvalidStringEncoding(Exception): pass\n",
    "    @staticmethod\n",
    "    def get_encodings_from_str(encodings) -> ndarray:\n",
    "        if not isinstance(encodings, bytes): raise FaceRecognition.InvalidStringEncoding('encodings should be of type bytes')\n",
    "\n",
    "        return frombuffer(encodings, dtype='float64')\n",
    "\n",
    "\n",
    "    class InvalidEncoding(Exception): pass\n",
    "    @staticmethod\n",
    "    def compare_encodings(encoding1, encoding2):\n",
    "        if not isinstance(encoding1, ndarray) and not isinstance(encoding2, ndarray):\n",
    "            raise FaceRecognition.InvalidEncoding('encoding provided not ndarray')\n",
    "        return face_recognition.compare_faces([encoding1], encoding2)\n",
    "\n",
    "    @staticmethod\n",
    "    def compare_distance(encoding1, encoding2):\n",
    "        if not isinstance(encoding1, ndarray) and not isinstance(encoding2, ndarray):\n",
    "            raise FaceRecognition.InvalidEncoding('encoding provided not ndarray')\n",
    "\n",
    "        return face_recognition.face_distance([encoding1], encoding2)"
   ]
  },
  {
   "cell_type": "code",
   "execution_count": 12,
   "metadata": {},
   "outputs": [
    {
     "name": "stdout",
     "output_type": "stream",
     "text": [
      "<class 'numpy.ndarray'> <class 'numpy.ndarray'>\n"
     ]
    }
   ],
   "source": [
    "doc_pp = FaceRecognition.get_face_encodings('saved.jpg')\n",
    "doc_pp = FaceRecognition.get_encodings_from_str(doc_pp)\n",
    "selfie = FaceRecognition.get_face_encodings('test user 2_backside.png')\n",
    "selfie = FaceRecognition.get_encodings_from_str(selfie)\n",
    "print(type(doc_pp), type(selfie))"
   ]
  },
  {
   "cell_type": "code",
   "execution_count": 10,
   "metadata": {},
   "outputs": [],
   "source": [
    "r1 = FaceRecognition.compare_encodings(selfie, doc_pp)\n",
    "r2 = FaceRecognition.compare_distance(selfie, doc_pp)"
   ]
  },
  {
   "cell_type": "code",
   "execution_count": 11,
   "metadata": {},
   "outputs": [
    {
     "name": "stdout",
     "output_type": "stream",
     "text": [
      "[True] [0.43695314]\n"
     ]
    }
   ],
   "source": [
    "print(r1, r2)"
   ]
  },
  {
   "cell_type": "code",
   "execution_count": 26,
   "metadata": {},
   "outputs": [
    {
     "data": {
      "text/plain": [
       "({'face_url': 'http://103.93.17.125:5001/static/img/ims/lC7pUVhZXP5IeviR.jpg',\n",
       "  'field_values': [{'value': 'MH02 20200011373'},\n",
       "   {'value': 'AUTHORISA TION TO DRI'},\n",
       "   {'value': '10-09-1999'},\n",
       "   {'value': 'AUTHORISA TION TO DRI VE FOLLOWING CLASS'},\n",
       "   {'value': 'A'},\n",
       "   {'value': ' '},\n",
       "   {'value': '31-08-2020'},\n",
       "   {'value': '31-08-2020'},\n",
       "   {'value': '-1'}],\n",
       "  'fields_detected': [{'value': 'LICENCE NO'},\n",
       "   {'value': 'NAME'},\n",
       "   {'value': 'DOB'},\n",
       "   {'value': 'CARE OF'},\n",
       "   {'value': 'CLASS'},\n",
       "   {'value': 'ADDRESS'},\n",
       "   {'value': 'DATE OF ISSUE'},\n",
       "   {'value': 'DATE OF EXPIRY'},\n",
       "   {'value': 'ID'}]},\n",
       " {'LICENCE NO': 'MH02 20200011373',\n",
       "  'NAME': 'AUTHORISA TION TO DRI',\n",
       "  'DOB': '10-09-1999',\n",
       "  'CARE OF': 'AUTHORISA TION TO DRI VE FOLLOWING CLASS',\n",
       "  'CLASS': 'A',\n",
       "  'ADDRESS': ' ',\n",
       "  'DATE OF ISSUE': '31-08-2020',\n",
       "  'DATE OF EXPIRY': '31-08-2020',\n",
       "  'ID': '-1',\n",
       "  'face_url': 'http://103.93.17.125:5001/static/img/ims/lC7pUVhZXP5IeviR.jpg'})"
      ]
     },
     "execution_count": 26,
     "metadata": {},
     "output_type": "execute_result"
    }
   ],
   "source": [
    "rj = resp.json()\n",
    "\n",
    "formated = {}\n",
    "for fields, values in zip(rj['fields_detected'], rj['field_values']):\n",
    "    formated[fields['value']] = values['value']\n",
    "\n",
    "formated['face_url'] = rj['face_url']\n",
    "rj, formated"
   ]
  },
  {
   "cell_type": "code",
   "execution_count": 50,
   "metadata": {},
   "outputs": [
    {
     "data": {
      "text/plain": [
       "{'INITIALIZED': 'SELFIE',\n",
       " 'SELFIE': 'DOCTYPE',\n",
       " 'DOCTYPE': 'FRONTSIDE',\n",
       " 'FRONTSIDE': 'BACKSIDE',\n",
       " 'BACKSIDE': 'RESULT',\n",
       " 'RESULT': 'FINISHED'}"
      ]
     },
     "execution_count": 50,
     "metadata": {},
     "output_type": "execute_result"
    }
   ],
   "source": [
    "a = ['INITIALIZED', 'SELFIE', 'DOCTYPE', 'FRONTSIDE', 'BACKSIDE', 'RESULT', 'FINISHED']\n",
    "\n",
    "b = {}\n",
    "p = None\n",
    "for v in a:\n",
    "    if not p:\n",
    "        p = v\n",
    "        continue\n",
    "\n",
    "    b[p] = v\n",
    "    p = v\n",
    "b"
   ]
  }
 ],
 "metadata": {
  "interpreter": {
   "hash": "ff13886d7e9bfb0efb7d00565e70530eb03366f2f70ae167b7f10b77422e9975"
  },
  "kernelspec": {
   "display_name": "Python 3.9.7 64-bit (system)",
   "language": "python",
   "name": "python3"
  },
  "language_info": {
   "codemirror_mode": {
    "name": "ipython",
    "version": 3
   },
   "file_extension": ".py",
   "mimetype": "text/x-python",
   "name": "python",
   "nbconvert_exporter": "python",
   "pygments_lexer": "ipython3",
   "version": "3.9.7"
  },
  "orig_nbformat": 4
 },
 "nbformat": 4,
 "nbformat_minor": 2
}
